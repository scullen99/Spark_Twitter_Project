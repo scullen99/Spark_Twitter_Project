{
 "cells": [
  {
   "cell_type": "markdown",
   "id": "prepared-netscape",
   "metadata": {},
   "source": [
    "# CALLER"
   ]
  },
  {
   "cell_type": "markdown",
   "id": "progressive-payday",
   "metadata": {},
   "source": [
    "## Directorio de trabajo"
   ]
  },
  {
   "cell_type": "code",
   "execution_count": null,
   "id": "4a475f59",
   "metadata": {},
   "outputs": [],
   "source": [
    "import pathlib\n",
    "pathlib.Path().absolute()"
   ]
  },
  {
   "cell_type": "markdown",
   "id": "upset-potential",
   "metadata": {},
   "source": [
    "## Instalar todas las librerías"
   ]
  },
  {
   "cell_type": "code",
   "execution_count": null,
   "id": "d6c915ef",
   "metadata": {},
   "outputs": [],
   "source": [
    "!pip install tweepy requests requests_oauthlib"
   ]
  },
  {
   "cell_type": "markdown",
   "id": "legal-scanner",
   "metadata": {},
   "source": [
    "## Importar las librerías"
   ]
  },
  {
   "cell_type": "code",
   "execution_count": null,
   "id": "polar-video",
   "metadata": {},
   "outputs": [],
   "source": [
    "from tweepy import Stream, OAuthHandler\n",
    "from tweepy.streaming import StreamListener\n",
    "import socket, json, sys, requests, requests_oauthlib"
   ]
  },
  {
   "cell_type": "markdown",
   "id": "handmade-guidance",
   "metadata": {},
   "source": [
    "## Keys necesarias"
   ]
  },
  {
   "cell_type": "code",
   "execution_count": null,
   "id": "super-possibility",
   "metadata": {},
   "outputs": [],
   "source": [
    "CONSUMER_KEY = ''\n",
    "CONSUMER_SECRET = ''\n",
    "ACCESS_TOKEN = ''\n",
    "ACCESS_SECRET = ''\n",
    "my_auth = requests_oauthlib.OAuth1(CONSUMER_KEY, CONSUMER_SECRET,ACCESS_TOKEN, ACCESS_SECRET)"
   ]
  },
  {
   "cell_type": "markdown",
   "id": "warming-configuration",
   "metadata": {},
   "source": [
    "## Coge tweets de la api"
   ]
  },
  {
   "cell_type": "code",
   "execution_count": null,
   "id": "inside-village",
   "metadata": {},
   "outputs": [],
   "source": [
    "def get_tweets():\n",
    "        url = 'https://stream.twitter.com/1.1/statuses/filter.json'\n",
    "        #query_data = [('language', 'es'), ('locations', '-15,28,2,41'),('track','Israel')]\n",
    "        #query_url = url + '?' + '&'.join([str(t[0]) + '=' + str(t[1]) for t in query_data])\n",
    "        response = requests.get(url, auth=my_auth, stream=True, params={\"track\": \"Israel\", \"language\": \"es\"})\n",
    "        print(response)\n",
    "        return response"
   ]
  },
  {
   "cell_type": "markdown",
   "id": "alive-update",
   "metadata": {},
   "source": [
    "## Manda los twits a Spark Streaming"
   ]
  },
  {
   "cell_type": "code",
   "execution_count": null,
   "id": "religious-detector",
   "metadata": {},
   "outputs": [],
   "source": [
    "def send_tweets_to_spark(http_resp, tcp_connection):\n",
    "    for line in http_resp.iter_lines():\n",
    "        try:\n",
    "            full_tweet = json.loads(line)\n",
    "            tweet_text = full_tweet['text'] + '\\n'\n",
    "            print(\"Tweet Text: \" + tweet_text)\n",
    "            print (\"------------------------------------------\")\n",
    "            tcp_connection.send(tweet_text.encode())\n",
    "        except:\n",
    "            e = sys.exc_info()[0]\n",
    "            print(\"Error: %s\" % e)\n",
    "            print(line)\n",
    "            continue"
   ]
  },
  {
   "cell_type": "markdown",
   "id": "recovered-stationery",
   "metadata": {},
   "source": [
    "## Asigna valores y aplica funciones"
   ]
  },
  {
   "cell_type": "code",
   "execution_count": null,
   "id": "noticed-marsh",
   "metadata": {},
   "outputs": [],
   "source": [
    "# El puerto = que en server\n",
    "TCP_IP, TCP_PORT, conn = \"localhost\", 9009, None\n",
    "s = socket.socket(socket.AF_INET, socket.SOCK_STREAM)\n",
    "s.bind((TCP_IP, TCP_PORT))\n",
    "s.listen(1)\n",
    "print(\"Waiting for TCP connection...\")\n",
    "conn, addr = s.accept()\n",
    "print(\"Connected... Starting getting tweets.\")\n",
    "resp = get_tweets()\n",
    "send_tweets_to_spark(resp, conn)"
   ]
  }
 ],
 "metadata": {
  "kernelspec": {
   "display_name": "Python 3",
   "language": "python",
   "name": "python3"
  },
  "language_info": {
   "codemirror_mode": {
    "name": "ipython",
    "version": 3
   },
   "file_extension": ".py",
   "mimetype": "text/x-python",
   "name": "python",
   "nbconvert_exporter": "python",
   "pygments_lexer": "ipython3",
   "version": "3.8.8"
  }
 },
 "nbformat": 4,
 "nbformat_minor": 5
}
